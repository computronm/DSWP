{
  "nbformat": 4,
  "nbformat_minor": 0,
  "metadata": {
    "colab": {
      "name": "Untitled36.ipynb",
      "provenance": [],
      "private_outputs": true,
      "include_colab_link": true
    },
    "kernelspec": {
      "name": "python3",
      "display_name": "Python 3"
    }
  },
  "cells": [
    {
      "cell_type": "markdown",
      "metadata": {
        "id": "view-in-github",
        "colab_type": "text"
      },
      "source": [
        "<a href=\"https://colab.research.google.com/github/MathMachado/DSWP/blob/master/Notebooks/Hackaton_Measuring_Accuracy.ipynb\" target=\"_parent\"><img src=\"https://colab.research.google.com/assets/colab-badge.svg\" alt=\"Open In Colab\"/></a>"
      ]
    },
    {
      "cell_type": "code",
      "metadata": {
        "id": "wZEIaCzKCWm1",
        "colab_type": "code",
        "colab": {}
      },
      "source": [
        "import numpy as np\n",
        "import pandas as pd"
      ],
      "execution_count": 0,
      "outputs": []
    },
    {
      "cell_type": "code",
      "metadata": {
        "id": "cc8igUPYufYn",
        "colab_type": "code",
        "colab": {}
      },
      "source": [
        "#d_Resultado= {'id':[1,2,3,4,5,6,7,8],\n",
        "#              'Resultado': [0.3,0.45,0.9,0.25,0.81,0.1,0.2,0.95]}\n",
        "#\n",
        "#d_XPTO_team1= {'id':[1,2,3,4,5,6,7,8],\n",
        "#                 'Predito': [0.45,0.45,0.8,0.25,0.85,0.4,0.20,0.7]}\n",
        "#\n",
        "#d_XPTO_team2= {'id':[1,2,3,4,5,6,7,8],\n",
        "#              'Resultado': [0.25,0.4,0.8,0.3,0.8,0.3,0.25,0.9]}\n",
        "#\n",
        "#d_XPTO_team3= {'id':[1,2,3,4,5,6,7,8],\n",
        "#              'Resultado': [0.3,0.35,0.75,0.37,0.7,0.35,0.3,1]}\n",
        "#\n",
        "#d_XPTO_team4= {'id':[1,2,3,4,5,6,7,8],\n",
        "#              'Resultado': [0.35,0.35,0.85,0.4,0.65,0.4,0.35,85]}\n"
      ],
      "execution_count": 0,
      "outputs": []
    },
    {
      "cell_type": "code",
      "metadata": {
        "id": "CZt3pw8HuvH4",
        "colab_type": "code",
        "colab": {}
      },
      "source": [
        "#df_Resultado= pd.DataFrame(d_Resultado).set_index('id')\n",
        "#df_XPTO_team1= pd.DataFrame(d_XPTO_team1).set_index('id')\n",
        "#df_XPTO_team2= pd.DataFrame(d_XPTO_team2).set_index('id')\n",
        "#df_XPTO_team3= pd.DataFrame(d_XPTO_team3).set_index('id')\n",
        "#df_XPTO_team4= pd.DataFrame(d_XPTO_team4).set_index('id')\n",
        "#\n",
        "#df_Resultado.to_csv('Resultado.csv')\n",
        "#df_XPTO_team1.to_csv('XPTO_team1.csv')\n",
        "#df_XPTO_team2.to_csv('XPTO_team2.csv')\n",
        "#df_XPTO_team3.to_csv('XPTO_team3.csv')\n",
        "#df_XPTO_team4.to_csv('XPTO_team4.csv')"
      ],
      "execution_count": 0,
      "outputs": []
    },
    {
      "cell_type": "code",
      "metadata": {
        "id": "CpBujBeI5R7l",
        "colab_type": "code",
        "colab": {}
      },
      "source": [
        "def Calcula_Acuracia(df_Resultado, df_Participante):\n",
        "    df_Resultado= pd.merge(df_Resultado, df_Participante, on= 'id')\n",
        "    RMSE= np.sqrt(((df_Resultado['Predito'] - df_Resultado['Resultado'])** 2).mean())\n",
        "    print(f\"RMSE: {RMSE}\")"
      ],
      "execution_count": 0,
      "outputs": []
    },
    {
      "cell_type": "code",
      "metadata": {
        "id": "Ey-KB2kUC6mR",
        "colab_type": "code",
        "colab": {}
      },
      "source": [
        "import re\n",
        "\n",
        "folderPath = \"SET UNIX PATH HERE\"\n",
        "\n",
        "output = None\n",
        "for file in os.listdir(folderPath):\n",
        "    if re.search(r'.csv', file):\n",
        "        with open(file, r) as readFile:\n",
        "            output += readFile.read()"
      ],
      "execution_count": 0,
      "outputs": []
    },
    {
      "cell_type": "code",
      "metadata": {
        "id": "EEPEsety5uKC",
        "colab_type": "code",
        "colab": {}
      },
      "source": [
        "Calcula_Acuracia(df_Resultado, df_Participante)"
      ],
      "execution_count": 0,
      "outputs": []
    },
    {
      "cell_type": "code",
      "metadata": {
        "id": "Ajh5N1Hh8HCJ",
        "colab_type": "code",
        "colab": {}
      },
      "source": [
        ""
      ],
      "execution_count": 0,
      "outputs": []
    }
  ]
}